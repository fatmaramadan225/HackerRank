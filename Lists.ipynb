{
 "cells": [
  {
   "cell_type": "markdown",
   "id": "d9403673",
   "metadata": {},
   "source": [
    "## 📝 Problem Statement: List Operations\n",
    "\n",
    "Consider a list `list = []`.  \n",
    "You can perform the following commands:\n",
    "\n",
    "- `insert i e`: Insert integer `e` at position `i`.\n",
    "- `print`: Print the list.\n",
    "- `remove e`: Delete the first occurrence of integer `e`.\n",
    "- `append e`: Insert integer `e` at the end of the list.\n",
    "- `sort`: Sort the list in ascending order.\n",
    "- `pop`: Pop the last element from the list.\n",
    "- `reverse`: Reverse the list.\n",
    "\n",
    "---\n",
    "\n",
    "### 🔧 Instructions:\n",
    "\n",
    "Initialize your list and read in the value of `N`, followed by `N` lines of commands.  \n",
    "Each command will be one of the operations described above.  \n",
    "Iterate through each command in order and perform the corresponding operation on your list.\n",
    "\n",
    "---\n",
    "\n",
    "### 📘 Example:\n",
    "\n",
    "**Input**\n",
    "4\n",
    "append 1\n",
    "append 3\n",
    "insert 1 2\n",
    "print\n",
    "\n",
    "\n",
    "**Output**\n",
    "[1, 2, 3]\n",
    "\n",
    "\n",
    "\n"
   ]
  },
  {
   "cell_type": "code",
   "execution_count": 4,
   "id": "3d21e367",
   "metadata": {},
   "outputs": [
    {
     "name": "stdout",
     "output_type": "stream",
     "text": [
      "4\n",
      "append 1\n",
      "append 2\n",
      "insert 1 3\n",
      "print\n",
      "[1, 3, 2]\n"
     ]
    }
   ],
   "source": [
    "if __name__ == '__main__':\n",
    "    N = int(input())\n",
    "    arr = []\n",
    "    for _ in range(N):\n",
    "        operation = input().split()\n",
    "        op = operation[0]\n",
    "\n",
    "        if op == \"insert\":\n",
    "            arr.insert(int(operation[1]), int(operation[2]))\n",
    "        elif op == \"print\":\n",
    "            print(arr)\n",
    "        elif op == \"remove\":\n",
    "            arr.remove(int(operation[1]))\n",
    "        elif op == \"append\":\n",
    "            arr.append(int(operation[1]))\n",
    "        elif op == \"sort\":\n",
    "            arr.sort()\n",
    "        elif op == \"pop\":\n",
    "            arr.pop()\n",
    "        elif op == \"reverse\":\n",
    "            arr.reverse()\n"
   ]
  },
  {
   "cell_type": "code",
   "execution_count": null,
   "id": "cb87878b",
   "metadata": {},
   "outputs": [],
   "source": []
  }
 ],
 "metadata": {
  "kernelspec": {
   "display_name": "Python 3 (ipykernel)",
   "language": "python",
   "name": "python3"
  },
  "language_info": {
   "codemirror_mode": {
    "name": "ipython",
    "version": 3
   },
   "file_extension": ".py",
   "mimetype": "text/x-python",
   "name": "python",
   "nbconvert_exporter": "python",
   "pygments_lexer": "ipython3",
   "version": "3.9.13"
  }
 },
 "nbformat": 4,
 "nbformat_minor": 5
}
