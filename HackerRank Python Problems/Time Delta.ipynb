{
 "cells": [
  {
   "cell_type": "markdown",
   "id": "43d2347e",
   "metadata": {},
   "source": [
    "### Problem: Time Delta\n",
    "\n",
    "When users post an update on social media, such as a URL, image, status update etc., other users in their network are able to view this new post on their news feed. Users can also see exactly when the post was published, i.e., how many hours, minutes or seconds ago.\n",
    "\n",
    "Since sometimes posts are published and viewed in different time zones, this can be confusing. You are given two timestamps of one such post that a user can see on their newsfeed in the following format:\n",
    "\n",
    "```\n",
    "Day dd Mon yyyy hh:mm:ss +xxxx\n",
    "```\n",
    "\n",
    "Here `+xxxx` represents the time zone. Your task is to print the **absolute difference (in seconds)** between them.\n",
    "\n",
    "---\n",
    "\n",
    "### Input Format\n",
    "\n",
    "- The first line contains an integer `t`, the number of test cases.\n",
    "- Each test case contains **two lines**, each representing a timestamp: `t1` and `t2`.\n",
    "\n",
    "---\n",
    "\n",
    "### Constraints\n",
    "\n",
    "- Input contains only valid timestamps.\n",
    "\n",
    "---\n",
    "\n",
    "### Output Format\n",
    "\n",
    "Print the absolute difference in seconds for each pair of timestamps, one per line.\n",
    "\n",
    "---\n",
    "\n",
    "### Sample Input 0\n",
    "```\n",
    "2\n",
    "Sun 10 May 2015 13:54:36 -0700\n",
    "Sun 10 May 2015 13:54:36 -0000\n",
    "Sat 02 May 2015 19:54:36 +0530\n",
    "Fri 01 May 2015 13:54:36 -0000\n",
    "```\n",
    "\n",
    "---\n",
    "\n",
    "### Sample Output 0\n",
    "```\n",
    "25200\n",
    "88200\n",
    "```\n",
    "\n",
    "---\n",
    "\n",
    "### Explanation 0\n",
    "\n",
    "In the first query, when we compare the time in UTC for both the timestamps, we see a difference of 7 hours, which is `25200` seconds.\n",
    "\n",
    "In the second query, adjusting for the 5 hours and 30 minutes time zone difference, we get a total difference of 1 day and 30 minutes, or `88200` seconds.\n"
   ]
  },
  {
   "cell_type": "code",
   "execution_count": 5,
   "id": "f78a83c9",
   "metadata": {},
   "outputs": [
    {
     "name": "stdout",
     "output_type": "stream",
     "text": [
      "2\n",
      "Sun 10 May 2015 13:54:36 -0700\n",
      "Sun 10 May 2015 13:54:36 -0000\n",
      "Sat 02 May 2015 19:54:36 +0530\n",
      "Fri 01 May 2015 13:54:36 -0000\n",
      "25200\n",
      "88200\n"
     ]
    }
   ],
   "source": [
    "from datetime import datetime\n",
    "\n",
    "def time_delta(t1, t2):\n",
    "    time_format = \"%a %d %b %Y %H:%M:%S %z\"\n",
    "    \n",
    "    dt1 = datetime.strptime(t1, time_format)\n",
    "    dt2 = datetime.strptime(t2, time_format)\n",
    "    \n",
    "    return str(int(abs((dt1 - dt2).total_seconds())))\n",
    "\n",
    "if __name__ == '__main__':\n",
    "    file_path = r'C:\\Users\\ELHADY\\Desktop\\python hackerrank problems\\TimeDelta.txt'\n",
    "    \n",
    "    with open(file_path, 'w') as fptr:\n",
    "        t = int(input())\n",
    "        results = []\n",
    "\n",
    "\n",
    "        for _ in range(t):\n",
    "            t1 = input()\n",
    "            t2 = input()\n",
    "\n",
    "            delta = time_delta(t1, t2)\n",
    "            fptr.write(delta + '\\n')\n",
    "            results.append(delta)\n",
    "\n",
    "        for result in results:\n",
    "            print(result)\n",
    "            fptr.write(result + '\\n')\n"
   ]
  },
  {
   "cell_type": "code",
   "execution_count": null,
   "id": "68722f00",
   "metadata": {},
   "outputs": [],
   "source": []
  }
 ],
 "metadata": {
  "kernelspec": {
   "display_name": "Python 3 (ipykernel)",
   "language": "python",
   "name": "python3"
  },
  "language_info": {
   "codemirror_mode": {
    "name": "ipython",
    "version": 3
   },
   "file_extension": ".py",
   "mimetype": "text/x-python",
   "name": "python",
   "nbconvert_exporter": "python",
   "pygments_lexer": "ipython3",
   "version": "3.9.13"
  }
 },
 "nbformat": 4,
 "nbformat_minor": 5
}
