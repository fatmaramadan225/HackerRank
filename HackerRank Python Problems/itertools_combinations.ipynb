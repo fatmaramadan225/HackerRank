{
 "cells": [
  {
   "cell_type": "markdown",
   "id": "7613b4f3",
   "metadata": {},
   "source": [
    "### `itertools.combinations(iterable, r)`\n",
    "\n",
    "This tool returns the length `r` subsequences of elements from the input iterable.\n",
    "\n",
    "Combinations are emitted in **lexicographic sorted order**. So, if the input iterable is sorted, the combination tuples will be produced in sorted order.\n",
    "\n",
    "---\n",
    "\n",
    "#### Sample Code\n",
    "\n",
    "```python\n",
    "from itertools import combinations\n",
    "\n",
    "print(list(combinations('12345', 2)))\n",
    "# [('1', '2'), ('1', '3'), ('1', '4'), ('1', '5'),\n",
    "#  ('2', '3'), ('2', '4'), ('2', '5'), ('3', '4'),\n",
    "#  ('3', '5'), ('4', '5')]\n",
    "\n",
    "A = [1, 1, 3, 3, 3]\n",
    "print(list(combinations(A, 4)))\n",
    "# [(1, 1, 3, 3), (1, 1, 3, 3), (1, 1, 3, 3), (1, 3, 3, 3), (1, 3, 3, 3)]\n",
    "```\n",
    "\n",
    "---\n",
    "\n",
    "### Task\n",
    "\n",
    "You are given a string `S`.  \n",
    "Your task is to **print all possible combinations**, **up to size `K`**, of the string in **lexicographic sorted order**.\n",
    "\n",
    "---\n",
    "\n",
    "### Input Format\n",
    "\n",
    "A single line containing the **string `S`** and **integer value `K`** separated by a space.\n",
    "\n",
    "---\n",
    "\n",
    "### Constraints\n",
    "\n",
    "- `0 < len(S) < 10`\n",
    "- The string contains only **UPPERCASE** characters.\n",
    "\n",
    "---\n",
    "\n",
    "### Output Format\n",
    "\n",
    "Print the different combinations of string `S` on **separate lines**.\n",
    "\n",
    "---\n",
    "\n",
    "### Sample Input\n",
    "```\n",
    "HACK 2\n",
    "```\n",
    "\n",
    "---\n",
    "\n",
    "### Sample Output\n",
    "```\n",
    "A\n",
    "C\n",
    "H\n",
    "K\n",
    "AC\n",
    "AH\n",
    "AK\n",
    "CH\n",
    "CK\n",
    "HK\n",
    "```\n"
   ]
  },
  {
   "cell_type": "code",
   "execution_count": 1,
   "id": "efe49338",
   "metadata": {},
   "outputs": [
    {
     "name": "stdout",
     "output_type": "stream",
     "text": [
      "ACHA 2\n",
      "A\n",
      "A\n",
      "C\n",
      "H\n",
      "AA\n",
      "AC\n",
      "AH\n",
      "AC\n",
      "AH\n",
      "CH\n"
     ]
    }
   ],
   "source": [
    "from itertools import combinations\n",
    "n = input().split()\n",
    "s = n[0]\n",
    "k = int(n[1])\n",
    "s = sorted(s)\n",
    "\n",
    "for i in range(1, k + 1):\n",
    "    l = combinations(s, i)\n",
    "    for c in l:\n",
    "        print(''.join(c))\n"
   ]
  },
  {
   "cell_type": "code",
   "execution_count": null,
   "id": "7e925fdb",
   "metadata": {},
   "outputs": [],
   "source": []
  }
 ],
 "metadata": {
  "kernelspec": {
   "display_name": "Python 3 (ipykernel)",
   "language": "python",
   "name": "python3"
  },
  "language_info": {
   "codemirror_mode": {
    "name": "ipython",
    "version": 3
   },
   "file_extension": ".py",
   "mimetype": "text/x-python",
   "name": "python",
   "nbconvert_exporter": "python",
   "pygments_lexer": "ipython3",
   "version": "3.9.13"
  }
 },
 "nbformat": 4,
 "nbformat_minor": 5
}
