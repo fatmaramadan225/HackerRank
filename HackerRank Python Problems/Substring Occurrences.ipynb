{
 "cells": [
  {
   "cell_type": "markdown",
   "id": "51169a22",
   "metadata": {},
   "source": [
    "### 🔍 Challenge: Find Substring Occurrences\n",
    "\n",
    "In this challenge, you will:\n",
    "- Receive an input string and a substring.\n",
    "- Your task is to **count how many times the substring occurs** in the original string.\n",
    "- The search should go from **left to right** (not right to left).\n",
    "- **Note:** Matching is **case-sensitive**.\n",
    "\n",
    "---\n",
    "\n",
    "### 📥 Input Format\n",
    "\n",
    "- First line: the **original string** `s`\n",
    "- Second line: the **substring** `sub`\n",
    "\n",
    "---\n",
    "\n",
    "### 📌 Constraints\n",
    "\n",
    "- Each character in the string is an ASCII character.\n",
    "- No special libraries are needed.\n",
    "\n",
    "---\n",
    "\n",
    "### 🧠 Concept\n",
    "\n",
    "Python provides tools to help us:\n",
    "\n",
    "- `len(s)` — gets the length of a string.\n",
    "- To loop through characters in a string:\n",
    "  \n",
    "```python\n",
    "for i in range(0, len(s)):\n",
    "    print(s[i])\n",
    "```\n",
    "\n",
    "- To loop through ranges:\n",
    "  \n",
    "```python\n",
    "range(0, 5)  # Loops over 0,1,2,3,4 — notice that 5 is **excluded**\n",
    "```\n",
    "\n",
    "---\n",
    "\n",
    "### ✅ Sample Input\n",
    "\n",
    "```\n",
    "ABCDCDC\n",
    "CDC\n",
    "```\n",
    "\n",
    "### 🎯 Sample Output\n",
    "\n",
    "```\n",
    "2\n",
    "```\n",
    "\n",
    "---\n",
    "\n",
    "### 🧪 Example Explanation\n",
    "\n",
    "We need to count how many times `\"CDC\"` appears in `\"ABCDCDC\"`:\n",
    "\n",
    "- `\"ABCDCDC\"` → starting from position 2: `\"CDC\"`\n",
    "- And again from position 4: `\"CDC\"`\n",
    "\n",
    "So the answer is **2**.\n"
   ]
  },
  {
   "cell_type": "code",
   "execution_count": 1,
   "id": "3fb63c95",
   "metadata": {},
   "outputs": [
    {
     "name": "stdout",
     "output_type": "stream",
     "text": [
      "ABCDCDC\n",
      "CDC\n",
      "2\n"
     ]
    }
   ],
   "source": [
    "def count_substring(string, sub_string):\n",
    "    count=0\n",
    "    start=0\n",
    "    while True:\n",
    "        start=string.find(sub_string,start)\n",
    "        if start ==-1:\n",
    "            break\n",
    "        count +=1\n",
    "        start +=1\n",
    "\n",
    "    return count\n",
    "\n",
    "if __name__ == '__main__':\n",
    "    string = input().strip()\n",
    "    sub_string = input().strip()\n",
    "    \n",
    "    count = count_substring(string, sub_string)\n",
    "    print(count)"
   ]
  },
  {
   "cell_type": "code",
   "execution_count": null,
   "id": "47b340b3",
   "metadata": {},
   "outputs": [],
   "source": []
  }
 ],
 "metadata": {
  "kernelspec": {
   "display_name": "Python 3 (ipykernel)",
   "language": "python",
   "name": "python3"
  },
  "language_info": {
   "codemirror_mode": {
    "name": "ipython",
    "version": 3
   },
   "file_extension": ".py",
   "mimetype": "text/x-python",
   "name": "python",
   "nbconvert_exporter": "python",
   "pygments_lexer": "ipython3",
   "version": "3.9.13"
  }
 },
 "nbformat": 4,
 "nbformat_minor": 5
}
