{
 "cells": [
  {
   "cell_type": "markdown",
   "id": "f4adbba5",
   "metadata": {},
   "source": [
    "### itertools.groupby()\n",
    "\n",
    "In this task, we would like for you to appreciate the usefulness of the `groupby()` function from the **itertools** module.  \n",
    "To read more about this function, check the official Python documentation.\n",
    "\n",
    "---\n",
    "\n",
    "#### Task\n",
    "\n",
    "You are given a string `S`. Suppose a character `'C'` occurs consecutively `K` times in the string.  \n",
    "Replace these consecutive occurrences of the character `'C'` with the tuple `(K, C)` in the string.\n",
    "\n",
    "---\n",
    "\n",
    "#### Input Format\n",
    "\n",
    "A single line of input consisting of the string `S`.\n",
    "\n",
    "---\n",
    "\n",
    "#### Output Format\n",
    "\n",
    "A single line of output consisting of the modified string with space-separated tuples.\n",
    "\n",
    "---\n",
    "\n",
    "#### Constraints\n",
    "\n",
    "All the characters of `S` are digits (i.e., integers between 0 and 9).\n",
    "\n",
    "---\n",
    "\n",
    "#### Sample Input\n",
    "```\n",
    "1222311\n",
    "```\n",
    "\n",
    "#### Sample Output\n",
    "```\n",
    "(1, 1) (3, 2) (1, 3) (2, 1)\n",
    "```\n",
    "\n",
    "---\n",
    "\n",
    "#### Explanation\n",
    "\n",
    "- First, the character `'1'` occurs only once. It is replaced by `(1, 1)`.\n",
    "- Then, the character `'2'` occurs three times consecutively. It is replaced by `(3, 2)`.\n",
    "- Then, the character `'3'` occurs once → `(1, 3)`.\n",
    "- Finally, `'1'` appears twice → `(2, 1)`.\n",
    "\n",
    "> Note: There is a **single space** between each tuple in the output.\n"
   ]
  },
  {
   "cell_type": "code",
   "execution_count": 1,
   "id": "0a64f072",
   "metadata": {},
   "outputs": [
    {
     "name": "stdout",
     "output_type": "stream",
     "text": [
      "1222311\n",
      "(1, 1) (3, 2) (1, 3) (2, 1) "
     ]
    }
   ],
   "source": [
    "from itertools import groupby\n",
    "\n",
    "data = list(input())\n",
    "groups = []\n",
    "counts = []\n",
    "\n",
    "for k, g in groupby(data):\n",
    "    group = list(g)\n",
    "    groups.append((len(group), int(k)))\n",
    "\n",
    "for item in groups:\n",
    "    print(item, end=\" \")\n"
   ]
  },
  {
   "cell_type": "code",
   "execution_count": null,
   "id": "1ef8b843",
   "metadata": {},
   "outputs": [],
   "source": []
  }
 ],
 "metadata": {
  "kernelspec": {
   "display_name": "Python 3 (ipykernel)",
   "language": "python",
   "name": "python3"
  },
  "language_info": {
   "codemirror_mode": {
    "name": "ipython",
    "version": 3
   },
   "file_extension": ".py",
   "mimetype": "text/x-python",
   "name": "python",
   "nbconvert_exporter": "python",
   "pygments_lexer": "ipython3",
   "version": "3.9.13"
  }
 },
 "nbformat": 4,
 "nbformat_minor": 5
}
