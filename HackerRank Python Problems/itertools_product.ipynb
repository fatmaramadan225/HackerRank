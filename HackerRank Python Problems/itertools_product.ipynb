{
 "cells": [
  {
   "cell_type": "markdown",
   "id": "dc87e88e",
   "metadata": {},
   "source": [
    "### itertools.product()\n",
    "\n",
    "This tool computes the cartesian product of input iterables.  \n",
    "It is equivalent to nested for-loops.  \n",
    "For example, `product(A, B)` returns the same as `((x, y) for x in A for y in B)`.\n",
    "\n",
    "---\n",
    "\n",
    "**Sample Code**\n",
    "\n",
    "```python\n",
    "from itertools import product\n",
    "\n",
    "print(list(product([1, 2, 3], repeat=2)))\n",
    "# Output: [(1, 1), (1, 2), (1, 3), (2, 1), (2, 2), (2, 3), (3, 1), (3, 2), (3, 3)]\n",
    "\n",
    "print(list(product([1, 2, 3], [3, 4])))\n",
    "# Output: [(1, 3), (1, 4), (2, 3), (2, 4), (3, 3), (3, 4)]\n",
    "\n",
    "A = [[1, 2, 3], [3, 4, 5]]\n",
    "print(list(product(*A)))\n",
    "# Output: [(1, 3), (1, 4), (1, 5), (2, 3), (2, 4), (2, 5), (3, 3), (3, 4), (3, 5)]\n",
    "\n",
    "B = [[1, 2, 3], [3, 4, 5], [7, 8]]\n",
    "print(list(product(*B)))\n",
    "# Output: [(1, 3, 7), (1, 3, 8), (1, 4, 7), ..., (3, 5, 8)]\n",
    "```\n",
    "\n",
    "---\n",
    "\n",
    "### Task\n",
    "\n",
    "You are given two lists `A` and `B`.  \n",
    "Your task is to compute their cartesian product `A × B`.\n",
    "\n",
    "#### Example\n",
    "```python\n",
    "A = [1, 2]\n",
    "B = [3, 4]\n",
    "```\n",
    "`A × B = [(1, 3), (1, 4), (2, 3), (2, 4)]`\n",
    "\n",
    "> Note: `A` and `B` are sorted lists, and the cartesian product's tuples should be output in sorted order.\n",
    "\n",
    "---\n",
    "\n",
    "### Input Format\n",
    "\n",
    "- The first line contains the space-separated elements of list `A`.\n",
    "- The second line contains the space-separated elements of list `B`.\n",
    "\n",
    "> Both lists have no duplicate integer elements.\n",
    "\n",
    "---\n",
    "\n",
    "### Constraints\n",
    "- Each list element is an integer.\n",
    "\n",
    "---\n",
    "\n",
    "### Output Format\n",
    "\n",
    "- Output the space-separated tuples of the cartesian product.\n",
    "\n",
    "---\n",
    "\n",
    "### Sample Input\n",
    "```\n",
    "1 2  \n",
    "3 4\n",
    "```\n",
    "\n",
    "### Sample Output\n",
    "```\n",
    "(1, 3) (1, 4) (2, 3) (2, 4)\n",
    "```\n"
   ]
  },
  {
   "cell_type": "code",
   "execution_count": 1,
   "id": "546614aa",
   "metadata": {},
   "outputs": [
    {
     "name": "stdout",
     "output_type": "stream",
     "text": [
      "1 2\n",
      "3 4\n",
      "(1, 3) (1, 4) (2, 3) (2, 4)\n"
     ]
    }
   ],
   "source": [
    "from itertools import product\n",
    "A = list(map(int,input().split()))\n",
    "B= list(map(int,input().split()))\n",
    "\n",
    "l=list(product(A,B))\n",
    "print(*l)"
   ]
  },
  {
   "cell_type": "code",
   "execution_count": null,
   "id": "9b284f85",
   "metadata": {},
   "outputs": [],
   "source": []
  }
 ],
 "metadata": {
  "kernelspec": {
   "display_name": "Python 3 (ipykernel)",
   "language": "python",
   "name": "python3"
  },
  "language_info": {
   "codemirror_mode": {
    "name": "ipython",
    "version": 3
   },
   "file_extension": ".py",
   "mimetype": "text/x-python",
   "name": "python",
   "nbconvert_exporter": "python",
   "pygments_lexer": "ipython3",
   "version": "3.9.13"
  }
 },
 "nbformat": 4,
 "nbformat_minor": 5
}
