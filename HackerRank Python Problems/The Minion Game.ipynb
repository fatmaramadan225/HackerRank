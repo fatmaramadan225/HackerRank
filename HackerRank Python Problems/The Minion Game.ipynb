{
 "cells": [
  {
   "cell_type": "markdown",
   "id": "de338348",
   "metadata": {},
   "source": [
    "Kevin and Stuart want to play the 'The Minion Game'.\n",
    "\n",
    "**Game Rules**\n",
    "\n",
    "Both players are given the same string, `S`.  \n",
    "Both players have to make substrings using the letters of the string `S`.  \n",
    "Stuart has to make words starting with consonants.  \n",
    "Kevin has to make words starting with vowels.  \n",
    "The game ends when both players have made all possible substrings.\n",
    "\n",
    "**Scoring**  \n",
    "A player gets +1 point for each occurrence of the substring in the string `S`.\n",
    "\n",
    "**For Example:**  \n",
    "String `S = BANANA`  \n",
    "Kevin's vowel beginning word = `ANA`  \n",
    "Here, `ANA` occurs twice in `BANANA`. Hence, Kevin will get 2 points.\n",
    "\n",
    "For better understanding, see the image below:\n",
    "\n",
    "`banana.png`\n",
    "\n",
    "Your task is to determine the winner of the game and their score.\n",
    "\n",
    "---\n",
    "\n",
    "### Function Description\n",
    "\n",
    "Complete the `minion_game` in the editor below.\n",
    "\n",
    "`minion_game` has the following parameters:\n",
    "\n",
    "- `string string`: the string to analyze\n",
    "\n",
    "**Prints**  \n",
    "- `string`: the winner's name and score, separated by a space on one line, or `Draw` if there is no winner\n",
    "\n",
    "---\n",
    "\n",
    "### Input Format\n",
    "\n",
    "A single line of input containing the string `S`.  \n",
    "Note: The string `S` will contain only uppercase letters: `A-Z`.\n",
    "\n",
    "---\n",
    "\n",
    "### Constraints\n",
    "\n",
    "*(Constraints not specified)*\n",
    "\n",
    "---\n",
    "\n",
    "### Sample Input\n",
    "BANANA\n",
    "\n",
    "### Sample Output\n",
    "\n",
    "Stuart 12\n",
    "\n",
    "\n",
    "\n"
   ]
  },
  {
   "cell_type": "code",
   "execution_count": 2,
   "id": "d0ff79ff",
   "metadata": {},
   "outputs": [
    {
     "name": "stdout",
     "output_type": "stream",
     "text": [
      "BANANA\n",
      "Stuart 12\n"
     ]
    }
   ],
   "source": [
    "def minion_game(string):\n",
    "    n = len(string)\n",
    "    \n",
    "    # Count points for Kevin (vowels)\n",
    "    kevin_score = sum(len(string[i:]) for i in range(n) if string[i] in \"AEIOU\")\n",
    "    \n",
    "    # Total substrings = n * (n + 1) // 2\n",
    "    total_substrings = n * (n + 1) // 2\n",
    "    \n",
    "    # Stuart gets the rest (consonants)\n",
    "    stuart_score = total_substrings - kevin_score\n",
    "\n",
    "    # Decide winner\n",
    "    if stuart_score == kevin_score:\n",
    "        print(\"Draw\")  # Fix typo: use string not variable 'draw'\n",
    "    elif stuart_score > kevin_score:\n",
    "        print(\"Stuart\", stuart_score)\n",
    "    else:\n",
    "        print(\"Kevin\", kevin_score)\n",
    "\n",
    "if __name__ == '__main__':\n",
    "    s = input()\n",
    "    minion_game(s)\n"
   ]
  },
  {
   "cell_type": "code",
   "execution_count": null,
   "id": "d42079fa",
   "metadata": {},
   "outputs": [],
   "source": []
  }
 ],
 "metadata": {
  "kernelspec": {
   "display_name": "Python 3 (ipykernel)",
   "language": "python",
   "name": "python3"
  },
  "language_info": {
   "codemirror_mode": {
    "name": "ipython",
    "version": 3
   },
   "file_extension": ".py",
   "mimetype": "text/x-python",
   "name": "python",
   "nbconvert_exporter": "python",
   "pygments_lexer": "ipython3",
   "version": "3.9.13"
  }
 },
 "nbformat": 4,
 "nbformat_minor": 5
}
