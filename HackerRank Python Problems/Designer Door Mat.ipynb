{
 "cells": [
  {
   "cell_type": "markdown",
   "id": "f0cd33ad",
   "metadata": {},
   "source": [
    "### 🧵 Door Mat Design Challenge\n",
    "\n",
    "Mr. Vincent works in a door mat manufacturing company. One day, he designed a new door mat with the following specifications:\n",
    "\n",
    "- The mat size must be **X × Y**, where:\n",
    "  - **X** is an **odd natural number**\n",
    "  - **Y = 3 × X**\n",
    "\n",
    "- The design pattern should:\n",
    "  - Use only the characters: `.|.`, `-`, and the string `WELCOME`\n",
    "  - Have the word `WELCOME` centered on the mat\n",
    "  - Display a symmetric pattern above and below the word\n",
    "\n",
    "---\n",
    "\n",
    "#### ✅ Input Format:\n",
    "A single line containing the space-separated values of **X** and **Y**\n",
    "\n",
    "Example:\n",
    "```\n",
    "9 27\n",
    "```\n",
    "\n",
    "---\n",
    "\n",
    "#### 🎯 Constraints:\n",
    "- `5 <= X < 101`\n",
    "- `15 <= Y < 303`\n",
    "- `Y = 3 × X`\n",
    "- `X` is an **odd** number\n",
    "\n",
    "---\n",
    "\n",
    "#### 📤 Output Format:\n",
    "Output the design pattern as described.\n",
    "\n",
    "---\n",
    "\n",
    "#### 🖥️ Sample Input:\n",
    "```\n",
    "9 27\n",
    "```\n",
    "\n",
    "#### 🖨️ Sample Output:\n",
    "```\n",
    "------------.|.------------\n",
    "---------.|..|..|.---------\n",
    "------.|..|..|..|..|.------\n",
    "---.|..|..|..|..|..|..|.---\n",
    "----------WELCOME----------\n",
    "---.|..|..|..|..|..|..|.---\n",
    "------.|..|..|..|..|.------\n",
    "---------.|..|..|.---------\n",
    "------------.|.------------\n",
    "```\n"
   ]
  },
  {
   "cell_type": "code",
   "execution_count": 1,
   "id": "cc23450a",
   "metadata": {},
   "outputs": [
    {
     "name": "stdout",
     "output_type": "stream",
     "text": [
      "9 27\n",
      "------------.|.------------\n",
      "---------.|..|..|.---------\n",
      "------.|..|..|..|..|.------\n",
      "---.|..|..|..|..|..|..|.---\n",
      "----------WELCOME----------\n",
      "---.|..|..|..|..|..|..|.---\n",
      "------.|..|..|..|..|.------\n",
      "---------.|..|..|.---------\n",
      "------------.|.------------\n"
     ]
    }
   ],
   "source": [
    "l = list(map(int , input().split()))\n",
    "n = l[0]\n",
    "m = l[1]\n",
    "mid = \".|.\"\n",
    "\n",
    "for i in range(int((n-1)/2)): \n",
    "        p=i*2+1\n",
    "        print((mid*p).center(m,'-'))\n",
    "        \n",
    "print(\"WELCOME\".center(m,'-'))\n",
    "      \n",
    "for i in reversed(range(n // 2 )):\n",
    "    p = i * 2 + 1\n",
    "    print((mid * p).center(m, '-'))\n",
    "    "
   ]
  },
  {
   "cell_type": "code",
   "execution_count": null,
   "id": "c17113a0",
   "metadata": {},
   "outputs": [],
   "source": []
  }
 ],
 "metadata": {
  "kernelspec": {
   "display_name": "Python 3 (ipykernel)",
   "language": "python",
   "name": "python3"
  },
  "language_info": {
   "codemirror_mode": {
    "name": "ipython",
    "version": 3
   },
   "file_extension": ".py",
   "mimetype": "text/x-python",
   "name": "python",
   "nbconvert_exporter": "python",
   "pygments_lexer": "ipython3",
   "version": "3.9.13"
  }
 },
 "nbformat": 4,
 "nbformat_minor": 5
}
