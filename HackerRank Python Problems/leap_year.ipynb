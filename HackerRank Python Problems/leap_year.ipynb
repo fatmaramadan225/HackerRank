{
 "cells": [
  {
   "cell_type": "markdown",
   "id": "e544b2da",
   "metadata": {},
   "source": [
    "An extra day is added to the calendar almost every four years as **February 29**, and the day is called a **leap day**. It corrects the calendar for the fact that our planet takes approximately **365.25 days** to orbit the sun. A leap year contains a leap day.\n",
    "\n",
    "In the **Gregorian calendar**, three conditions are used to identify leap years:\n",
    "\n",
    "- The year can be evenly divided by 4, **is a leap year**, unless:\n",
    "- The year can be evenly divided by 100, it is **NOT** a leap year, unless:\n",
    "- The year is also evenly divisible by 400. **Then it is a leap year.**\n",
    "\n",
    "This means that in the Gregorian calendar:\n",
    "- The years **2000** and **2400** are leap years.\n",
    "- The years **1800, 1900, 2100, 2200, 2300** and **2500** are **NOT** leap years.  \n",
    "(Source)\n",
    "\n",
    "---\n",
    "\n",
    "### 🧠 Task\n",
    "\n",
    "Given a year, determine whether it is a leap year.  \n",
    "If it **is** a leap year, return the Boolean `True`, otherwise return `False`.\n",
    "\n",
    "> Note: The code stub provided reads from `STDIN` and passes arguments to the `is_leap` function. It is only necessary to complete the `is_leap` function.\n",
    "\n",
    "---\n",
    "\n",
    "### 📥 Input Format\n",
    "Read `year`, the year to test.\n",
    "\n",
    "---\n",
    "\n",
    "### 🔒 Constraints\n",
    "* `1900 <= year <= 10^5`\n",
    "\n",
    "---\n",
    "\n",
    "### 📤 Output Format\n",
    "The function must return a Boolean value (`True`/`False`).  \n",
    "Output is handled by the provided code stub.\n",
    "\n",
    "---\n",
    "\n",
    "### ✅ Sample Input 0\n",
    "```\n",
    "1990\n",
    "```\n",
    "\n",
    "### ✅ Sample Output 0\n",
    "```\n",
    "False\n",
    "```\n",
    "\n",
    "### 📝 Explanation 0\n",
    "1990 is **not** a multiple of 4, hence it's **not a leap year**.\n"
   ]
  },
  {
   "cell_type": "code",
   "execution_count": 9,
   "id": "5d7ca057",
   "metadata": {},
   "outputs": [
    {
     "name": "stdout",
     "output_type": "stream",
     "text": [
      "1990\n"
     ]
    },
    {
     "data": {
      "text/plain": [
       "False"
      ]
     },
     "execution_count": 9,
     "metadata": {},
     "output_type": "execute_result"
    }
   ],
   "source": [
    "year = int(input())\n",
    "def is_leap(year):\n",
    "    if year % 4 != 0:\n",
    "        return False\n",
    "    elif year % 100 != 0:\n",
    "        return True\n",
    "    elif year % 400 == 0:\n",
    "        return True\n",
    "    else:\n",
    "        return False\n",
    "    \n",
    "is_leap(year)\n"
   ]
  },
  {
   "cell_type": "code",
   "execution_count": null,
   "id": "a3bdc311",
   "metadata": {},
   "outputs": [],
   "source": []
  }
 ],
 "metadata": {
  "kernelspec": {
   "display_name": "Python 3 (ipykernel)",
   "language": "python",
   "name": "python3"
  },
  "language_info": {
   "codemirror_mode": {
    "name": "ipython",
    "version": 3
   },
   "file_extension": ".py",
   "mimetype": "text/x-python",
   "name": "python",
   "nbconvert_exporter": "python",
   "pygments_lexer": "ipython3",
   "version": "3.9.13"
  }
 },
 "nbformat": 4,
 "nbformat_minor": 5
}
