{
 "cells": [
  {
   "cell_type": "markdown",
   "id": "dbf08e4d",
   "metadata": {},
   "source": [
    "### itertools.combinations_with_replacement(iterable, r)\n",
    "\n",
    "This tool returns **r-length subsequences** of elements from the input iterable allowing individual elements to be repeated more than once.\n",
    "\n",
    "Combinations are emitted in **lexicographic sorted order**. So, if the input iterable is sorted, the combination tuples will be produced in sorted order.\n",
    "\n",
    "---\n",
    "\n",
    "#### Sample Code\n",
    "\n",
    "```python\n",
    "from itertools import combinations_with_replacement\n",
    "\n",
    "print(list(combinations_with_replacement('12345', 2)))\n",
    "# Output: [('1', '1'), ('1', '2'), ('1', '3'), ('1', '4'), ('1', '5'), \n",
    "#          ('2', '2'), ('2', '3'), ('2', '4'), ('2', '5'),\n",
    "#          ('3', '3'), ('3', '4'), ('3', '5'),\n",
    "#          ('4', '4'), ('4', '5'), \n",
    "#          ('5', '5')]\n",
    "\n",
    "A = [1, 1, 3, 3, 3]\n",
    "print(list(combinations_with_replacement(A, 2)))\n",
    "# Output: [(1, 1), (1, 3), (1, 3), (1, 3), (1, 3), (1, 3), (1, 3),\n",
    "#          (3, 3), (3, 3), (3, 3)]\n",
    "```\n",
    "\n",
    "---\n",
    "\n",
    "### Task\n",
    "\n",
    "You are given a string **S**.  \n",
    "Your task is to print all possible size **K** replacement combinations of the string in **lexicographic sorted order**.\n",
    "\n",
    "---\n",
    "\n",
    "#### Input Format\n",
    "\n",
    "A single line containing the string **S** and integer value **K** separated by a space.\n",
    "\n",
    "---\n",
    "\n",
    "#### Constraints\n",
    "\n",
    "- The string contains only **UPPERCASE** characters.\n",
    "\n",
    "---\n",
    "\n",
    "#### Output Format\n",
    "\n",
    "Print the combinations with their replacements of string **S** on separate lines.\n",
    "\n",
    "---\n",
    "\n",
    "#### Sample Input\n",
    "```\n",
    "HACK 2\n",
    "```\n",
    "\n",
    "#### Sample Output\n",
    "```\n",
    "AA\n",
    "AC\n",
    "AH\n",
    "AK\n",
    "CC\n",
    "CH\n",
    "CK\n",
    "HH\n",
    "HK\n",
    "KK\n",
    "```\n",
    "\n"
   ]
  },
  {
   "cell_type": "code",
   "execution_count": 1,
   "id": "04968d1f",
   "metadata": {},
   "outputs": [
    {
     "name": "stdout",
     "output_type": "stream",
     "text": [
      "HACK 2\n",
      "AA\n",
      "AC\n",
      "AH\n",
      "AK\n",
      "CC\n",
      "CH\n",
      "CK\n",
      "HH\n",
      "HK\n",
      "KK\n"
     ]
    }
   ],
   "source": [
    "from itertools import combinations_with_replacement\n",
    "n = input().split()\n",
    "s = n[0]\n",
    "k = int(n[1])\n",
    "s = sorted(s)\n",
    "l=list(combinations_with_replacement(s,k))\n",
    "print('\\n'.join([''.join(x) for x in l]))"
   ]
  },
  {
   "cell_type": "code",
   "execution_count": null,
   "id": "d3020647",
   "metadata": {},
   "outputs": [],
   "source": []
  }
 ],
 "metadata": {
  "kernelspec": {
   "display_name": "Python 3 (ipykernel)",
   "language": "python",
   "name": "python3"
  },
  "language_info": {
   "codemirror_mode": {
    "name": "ipython",
    "version": 3
   },
   "file_extension": ".py",
   "mimetype": "text/x-python",
   "name": "python",
   "nbconvert_exporter": "python",
   "pygments_lexer": "ipython3",
   "version": "3.9.13"
  }
 },
 "nbformat": 4,
 "nbformat_minor": 5
}
