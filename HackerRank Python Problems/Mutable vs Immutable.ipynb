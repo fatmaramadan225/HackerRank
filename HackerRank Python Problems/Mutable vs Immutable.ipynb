{
 "cells": [
  {
   "cell_type": "markdown",
   "id": "107fab52",
   "metadata": {},
   "source": [
    "### 🧵 Mutable vs Immutable: Strings in Python\n",
    "\n",
    "We have seen that **lists are mutable** (they can be changed), and **tuples are immutable** (they cannot be changed).  \n",
    "Strings are also **immutable**.\n",
    "\n",
    "Let’s try to understand this with an example.\n",
    "\n",
    "```python\n",
    "string = \"abracadabra\"\n",
    "print(string[5])  # Output: 'a'\n",
    "```\n",
    "\n",
    "What if you try to assign a new value at an index?\n",
    "\n",
    "```python\n",
    "string[5] = 'k'\n",
    "```\n",
    "\n",
    "You will get:\n",
    "\n",
    "```\n",
    "TypeError: 'str' object does not support item assignment\n",
    "```\n",
    "\n",
    "---\n",
    "\n",
    "### ✅ How to Modify a String\n",
    "\n",
    "#### 💡 Solution 1: Convert to a list\n",
    "\n",
    "```python\n",
    "string = \"abracadabra\"\n",
    "l = list(string)\n",
    "l[5] = 'k'\n",
    "string = ''.join(l)\n",
    "print(string)  # Output: 'abrackdabra'\n",
    "```\n",
    "\n",
    "#### 💡 Solution 2: Use slicing\n",
    "\n",
    "```python\n",
    "string = \"abracadabra\"\n",
    "string = string[:5] + \"k\" + string[6:]\n",
    "print(string)  # Output: 'abrackdabra'\n",
    "```\n",
    "\n",
    "---\n",
    "\n",
    "### 📝 Task\n",
    "\n",
    "Complete the function `mutate_string` that:\n",
    "- Takes a string,\n",
    "- Changes the character at a specific index,\n",
    "- And returns the modified string.\n",
    "\n",
    "```python\n",
    "def mutate_string(string, position, character):\n",
    "    return string[:position] + character + string[position+1:]\n",
    "```\n",
    "\n",
    "---\n",
    "\n",
    "### 📥 Sample Input\n",
    "\n",
    "```\n",
    "abracadabra\n",
    "5 k\n",
    "```\n",
    "\n",
    "### 📤 Sample Output\n",
    "\n",
    "```\n",
    "abrackdabra\n",
    "```\n"
   ]
  },
  {
   "cell_type": "code",
   "execution_count": 2,
   "id": "3fb63c95",
   "metadata": {},
   "outputs": [
    {
     "name": "stdout",
     "output_type": "stream",
     "text": [
      "abracadabra\n",
      "5 k\n",
      "abrackdabra\n"
     ]
    }
   ],
   "source": [
    "def mutate_string(string, position, character):\n",
    "    return string[:position] + character + string[position+1:] \n",
    "\n",
    "\n",
    "if __name__ == '__main__':\n",
    "    s = input()\n",
    "    i, c = input().split()\n",
    "    s_new = mutate_string(s, int(i), c)\n",
    "    print(s_new)"
   ]
  },
  {
   "cell_type": "code",
   "execution_count": null,
   "id": "6b3c90a9",
   "metadata": {},
   "outputs": [],
   "source": []
  }
 ],
 "metadata": {
  "kernelspec": {
   "display_name": "Python 3 (ipykernel)",
   "language": "python",
   "name": "python3"
  },
  "language_info": {
   "codemirror_mode": {
    "name": "ipython",
    "version": 3
   },
   "file_extension": ".py",
   "mimetype": "text/x-python",
   "name": "python",
   "nbconvert_exporter": "python",
   "pygments_lexer": "ipython3",
   "version": "3.9.13"
  }
 },
 "nbformat": 4,
 "nbformat_minor": 5
}
