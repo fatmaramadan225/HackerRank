{
 "cells": [
  {
   "cell_type": "markdown",
   "id": "057b765a",
   "metadata": {},
   "source": [
    "### 🧠 Let's Learn About List Comprehensions in Python!\n",
    "\n",
    "You are given **three integers** `x`, `y`, and `z` representing the dimensions of a cuboid along with an integer `n`.  \n",
    "\n",
    "Print a list of all possible coordinates given by `(i, j, k)` on a 3D grid where the sum of `i + j + k` **is not equal to `n`**.\n",
    "\n",
    "Here:  \n",
    "`0 ≤ i ≤ x`  \n",
    "`0 ≤ j ≤ y`  \n",
    "`0 ≤ k ≤ z`\n",
    "\n",
    "You must use **list comprehensions** rather than multiple loops, as a learning exercise.\n",
    "\n",
    "---\n",
    "\n",
    "#### 🧾 Example\n",
    "\n",
    "Let:\n",
    "\n",
    "```python\n",
    "x = 1  \n",
    "y = 1  \n",
    "z = 2  \n",
    "n = 3\n"
   ]
  },
  {
   "cell_type": "code",
   "execution_count": 1,
   "id": "dee90079",
   "metadata": {},
   "outputs": [
    {
     "name": "stdout",
     "output_type": "stream",
     "text": [
      "1\n",
      "1\n",
      "1\n",
      "2\n",
      "[[0, 0, 0], [0, 0, 1], [0, 1, 0], [1, 0, 0], [1, 1, 1]]\n"
     ]
    }
   ],
   "source": [
    "x =int(input())\n",
    "y =int(input())\n",
    "z =int(input())\n",
    "n =int(input())\n",
    "\n",
    "l = [[i, j, k] \n",
    "          for i in range(x + 1) \n",
    "          for j in range(y + 1) \n",
    "          for k in range(z + 1) \n",
    "          if i + j + k != n]\n",
    "\n",
    "print(l)"
   ]
  },
  {
   "cell_type": "code",
   "execution_count": null,
   "id": "8d54fcf6",
   "metadata": {},
   "outputs": [],
   "source": []
  }
 ],
 "metadata": {
  "kernelspec": {
   "display_name": "Python 3 (ipykernel)",
   "language": "python",
   "name": "python3"
  },
  "language_info": {
   "codemirror_mode": {
    "name": "ipython",
    "version": 3
   },
   "file_extension": ".py",
   "mimetype": "text/x-python",
   "name": "python",
   "nbconvert_exporter": "python",
   "pygments_lexer": "ipython3",
   "version": "3.9.13"
  }
 },
 "nbformat": 4,
 "nbformat_minor": 5
}
