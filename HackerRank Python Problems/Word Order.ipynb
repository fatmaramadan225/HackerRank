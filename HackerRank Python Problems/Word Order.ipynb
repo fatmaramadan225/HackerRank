{
 "cells": [
  {
   "cell_type": "markdown",
   "id": "5bb3d983",
   "metadata": {},
   "source": [
    "## Word Count Tracker\n",
    "\n",
    "You are given `n` words. Some words may repeat. For each word, output its number of occurrences.  \n",
    "The output order should correspond with the input order of appearance of the word.  \n",
    "See the sample input/output for clarification.\n",
    "\n",
    "> **Note**: Each input line ends with a `\\n` character.\n",
    "\n",
    "---\n",
    "\n",
    "### Constraints\n",
    "\n",
    "- The sum of the lengths of all the words does not exceed $10^6$.\n",
    "- All the words are composed of lowercase English letters only.\n",
    "\n",
    "---\n",
    "\n",
    "### Input Format\n",
    "\n",
    "- The first line contains the integer `n`.\n",
    "- The next `n` lines each contain a word.\n",
    "\n",
    "---\n",
    "\n",
    "### Output Format\n",
    "\n",
    "- Output **two lines**:\n",
    "  1. The number of **distinct** words from the input.\n",
    "  2. The number of **occurrences** for each distinct word, according to their **first appearance** in the input.\n",
    "\n",
    "---\n",
    "\n",
    "### Sample Input\n",
    "```\n",
    "4\n",
    "bcdef\n",
    "abcdefg\n",
    "bcde\n",
    "bcdef\n",
    "```\n",
    "\n",
    "### Sample Output\n",
    "```\n",
    "3\n",
    "2 1 1\n",
    "```\n",
    "\n",
    "---\n",
    "\n",
    "### Explanation\n",
    "\n",
    "There are **3** distinct words.  \n",
    "Here, `\"bcdef\"` appears **twice** in the input (first and last).  \n",
    "The other words appear once each.  \n",
    "The order of the first appearances are:  \n",
    "`\"bcdef\"`, `\"abcdefg\"`, and `\"bcde\"` — which corresponds to the output.\n"
   ]
  },
  {
   "cell_type": "code",
   "execution_count": 1,
   "id": "3ccdd1a9",
   "metadata": {},
   "outputs": [
    {
     "name": "stdout",
     "output_type": "stream",
     "text": [
      "4\n",
      "bcdef\n",
      "abcdefg\n",
      "bcde\n",
      "bcdef\n",
      "3\n",
      "2 1 1\n"
     ]
    }
   ],
   "source": [
    "from collections import OrderedDict\n",
    "n =int(input())\n",
    "word_counts = OrderedDict()\n",
    "\n",
    "for i in range(n):\n",
    "    word = input().strip()\n",
    "    if word in word_counts:\n",
    "        word_counts[word] += 1\n",
    "    else:\n",
    "        word_counts[word] = 1\n",
    "    \n",
    "print(len(word_counts))\n",
    "print(' '.join(str(count) for count in word_counts.values()))\n",
    "  "
   ]
  },
  {
   "cell_type": "code",
   "execution_count": null,
   "id": "93e09b09",
   "metadata": {},
   "outputs": [],
   "source": []
  }
 ],
 "metadata": {
  "kernelspec": {
   "display_name": "Python 3 (ipykernel)",
   "language": "python",
   "name": "python3"
  },
  "language_info": {
   "codemirror_mode": {
    "name": "ipython",
    "version": 3
   },
   "file_extension": ".py",
   "mimetype": "text/x-python",
   "name": "python",
   "nbconvert_exporter": "python",
   "pygments_lexer": "ipython3",
   "version": "3.9.13"
  }
 },
 "nbformat": 4,
 "nbformat_minor": 5
}
